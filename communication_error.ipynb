{
 "cells": [
  {
   "cell_type": "code",
   "execution_count": 2,
   "id": "restricted-nursing",
   "metadata": {},
   "outputs": [
    {
     "name": "stdout",
     "output_type": "stream",
     "text": [
      "Data shapes (10000, 28, 28, 1) (10000,) (60000, 28, 28, 1) (60000,)\n"
     ]
    }
   ],
   "source": [
    "import tensorflow as tf\n",
    "from tensorflow.keras import models, datasets, layers, losses, Sequential\n",
    "import tensorflow.keras.backend as K\n",
    "\n",
    "import numpy as np\n",
    "import sklearn as sk\n",
    "\n",
    "import matplotlib.pyplot as plt\n",
    "\n",
    "from IPython.display import display, Math, Latex\n",
    "\n",
    "import joblib\n",
    "import os\n",
    "import random\n",
    "import math\n",
    "img_rows, img_cols, channels = 28, 28, 1\n",
    "num_classes = 10\n",
    "\n",
    "(x_train, y_train), (x_test, y_test) = datasets.mnist.load_data()\n",
    "\n",
    "x_train = x_train / 255\n",
    "x_test = x_test / 255\n",
    "\n",
    "x_train = x_train.reshape((-1, img_rows, img_cols, channels))\n",
    "x_test = x_test.reshape((-1, img_rows, img_cols, channels))\n",
    "\n",
    "# y_train = tf.keras.utils.to_categorical(y_train, num_classes)\n",
    "# y_test = tf.keras.utils.to_categorical(y_test, num_classes)\n",
    "\n",
    "print(\"Data shapes\", x_test.shape, y_test.shape, x_train.shape, y_train.shape)"
   ]
  },
  {
   "cell_type": "code",
   "execution_count": 3,
   "id": "timely-writer",
   "metadata": {},
   "outputs": [],
   "source": [
    "def get_complex_model():\n",
    "    model = models.Sequential()\n",
    "    model.add(layers.Conv2D(64, (3, 3), activation='relu', input_shape=(img_rows, img_cols, channels)))\n",
    "    model.add(layers.MaxPooling2D((2, 2)))\n",
    "    model.add(layers.Conv2D(64, (3, 3), activation='relu'))\n",
    "    model.add(layers.MaxPooling2D((2, 2)))\n",
    "    model.add(layers.Conv2D(64, (3, 3), activation='relu'))\n",
    "    model.add(layers.Flatten())\n",
    "    model.add(layers.Dense(64, activation='relu'))\n",
    "    model.add(layers.Dense(10, activation='softmax'))\n",
    "\n",
    "    model.summary()\n",
    "    return model\n",
    "\n",
    "def get_simple_model():\n",
    "    model = models.Sequential()\n",
    "    model.add(layers.Flatten(input_shape=(img_rows, img_cols, channels)))\n",
    "    model.add(layers.Dense(128, activation='relu'))\n",
    "    model.add(layers.Dense(10, activation='softmax'))\n",
    "\n",
    "    model.summary()\n",
    "    return model"
   ]
  },
  {
   "cell_type": "code",
   "execution_count": 4,
   "id": "promising-bhutan",
   "metadata": {},
   "outputs": [],
   "source": [
    "def train_model(model, x_train, y_train, x_test, y_test, epochs=10):\n",
    "    model.compile(\n",
    "        optimizer=tf.keras.optimizers.Adam(0.001),\n",
    "        loss=tf.keras.losses.SparseCategoricalCrossentropy(from_logits=True),\n",
    "        metrics=[tf.keras.metrics.SparseCategoricalAccuracy()],\n",
    "    )\n",
    "    model.fit(x_train, y_train, epochs=epochs, \n",
    "              validation_data=(x_test, y_test), use_multiprocessing=True)"
   ]
  },
  {
   "cell_type": "code",
   "execution_count": null,
   "id": "gorgeous-reducing",
   "metadata": {},
   "outputs": [],
   "source": [
    "model = get_complex_model()\n",
    "train_model(model, x_train, y_train, x_test, y_test)"
   ]
  },
  {
   "cell_type": "code",
   "execution_count": 5,
   "id": "broadband-biology",
   "metadata": {},
   "outputs": [],
   "source": [
    "# The FGSM method\n",
    "def create_adversarial_pattern_FGSM(model, input_image, input_label):\n",
    "    u = tf.Variable(input_image)\n",
    "    with tf.GradientTape() as tape:\n",
    "        tape.watch(u)\n",
    "        prediction = model(u) # you have to change from model.predict(...) to\n",
    "                                        # just calling the object in tape??? wtf\n",
    "        # the input label is form [prediction] but it it in shape (1,10) :(\n",
    "        # loss = tf.keras.losses.CategoricalCrossentropy()(true_labels, prediction)\n",
    "        loss = tf.keras.losses.SparseCategoricalCrossentropy()(input_label, prediction)\n",
    "    # Get the gradients of the loss w.r.t to the input image.\n",
    "    gradient = tape.gradient(loss, u)\n",
    "    # Get the sign of the gradients to create the perturbation\n",
    "    signed_grad = tf.sign(gradient)\n",
    "    return signed_grad"
   ]
  },
  {
   "cell_type": "code",
   "execution_count": 6,
   "id": "written-madrid",
   "metadata": {},
   "outputs": [],
   "source": [
    "# Let's set up a whole prediction for the entire set of images to get accuracy changes\n",
    "epsilons = [0, 0.01, 0.1, 0.2, 0.3]\n",
    "\n",
    "def evaluate_epsilons(model, images, labels, preturbations, epsilons=[0, 0.01, 0.1, 0.2, 0.3]):\n",
    "    # start evaluating model on different epsilons to discover relationship between eps and \n",
    "    # the accuracy of the model. It should go down as expected.\n",
    "    lossess = []\n",
    "    accuracies = []\n",
    "    p_copy = images.copy()\n",
    "\n",
    "    for i, eps in enumerate(epsilons):\n",
    "        adv_xs = []\n",
    "        display(Math('\\epsilon = %1.2f' % eps))\n",
    "        for index in range(len(preturbations)):\n",
    "            p_copy[index] = tf.clip_by_value(p_copy[index] + eps * preturbations[index], -1, 1)\n",
    "        loss, accuracy = model.evaluate(p_copy,  labels, verbose=1)\n",
    "        lossess.append(loss)\n",
    "        accuracies.append(accuracy)\n",
    "        p_copy = images.copy()\n",
    "    return accuracies, lossess\n",
    "\n",
    "def get_preturbation_images(model, x_images, y_labels):\n",
    "    images = tf.cast(x_images, tf.float32)\n",
    "    preturbs = create_adversarial_pattern_FGSM(model, images, y_labels)\n",
    "    return preturbs"
   ]
  },
  {
   "cell_type": "code",
   "execution_count": 133,
   "id": "cheap-bread",
   "metadata": {},
   "outputs": [],
   "source": [
    "# Let's set up a whole prediction for the entire set of images to get accuracy changes\n",
    "epsilons = [0, 0.01, 0.1, 0.2, 0.3]\n",
    "\n",
    "def evaluate_epsilons(model, images, labels, preturbations, epsilons=[0, 0.01, 0.1, 0.2, 0.3]):\n",
    "    # start evaluating model on different epsilons to discover relationship between eps and \n",
    "    # the accuracy of the model. It should go down as expected.\n",
    "    lossess = []\n",
    "    accuracies = []\n",
    "    p_copy = images.copy()\n",
    "\n",
    "    for i, eps in enumerate(epsilons):\n",
    "        adv_xs = []\n",
    "        display(Math('\\epsilon = %1.2f' % eps))\n",
    "        for index in range(len(preturbations)):\n",
    "            p_copy[index] = tf.clip_by_value(p_copy[index] + eps * preturbations[index], -1, 1)\n",
    "        loss, accuracy = model.evaluate(p_copy,  labels, verbose=1)\n",
    "        lossess.append(loss)\n",
    "        accuracies.append(accuracy)\n",
    "        p_copy = images.copy()\n",
    "    return accuracies, lossess\n",
    "\n",
    "def get_preturbation_images(model, x_images, y_labels):\n",
    "    images = tf.cast(x_images, tf.float32)\n",
    "    preturbs = create_adversarial_pattern_FGSM(model, images, y_labels)\n",
    "    return preturbs"
   ]
  },
  {
   "cell_type": "code",
   "execution_count": 134,
   "id": "finnish-backup",
   "metadata": {},
   "outputs": [],
   "source": [
    "# The FGSM method\n",
    "def create_adversarial_pattern_FGSM(model, input_image, input_label):\n",
    "    u = tf.Variable(input_image)\n",
    "    with tf.GradientTape() as tape:\n",
    "        tape.watch(u)\n",
    "        prediction = model(u) # you have to change from model.predict(...) to\n",
    "                                        # just calling the object in tape??? wtf\n",
    "        # the input label is form [prediction] but it it in shape (1,10) :(\n",
    "        # loss = tf.keras.losses.CategoricalCrossentropy()(true_labels, prediction)\n",
    "        loss = tf.keras.losses.SparseCategoricalCrossentropy()(input_label, prediction)\n",
    "    # Get the gradients of the loss w.r.t to the input image.\n",
    "    gradient = tape.gradient(loss, u)\n",
    "    # Get the sign of the gradients to create the perturbation\n",
    "    signed_grad = tf.sign(gradient)\n",
    "    # print(signed_grad)\n",
    "    return signed_grad"
   ]
  },
  {
   "cell_type": "code",
   "execution_count": 146,
   "id": "duplicate-organ",
   "metadata": {},
   "outputs": [],
   "source": [
    "def run_neuron_tests(model_name, num_trials=1, epsilons=[0, 0.01, 0.02, 0.04, 0.05, 0.1], \n",
    "                               ss=[0, 0.01, 0.1, 1, 10]): \n",
    "    accuracies = {}\n",
    "    model = tf.keras.models.load_model(model_name)\n",
    "    orig_weights = model.get_weights()\n",
    "    for trial in range(num_trials):\n",
    "        trial_message = 'Starting trial %i' % trial\n",
    "        print(trial_message, trial)\n",
    "        for ep in epsilons:\n",
    "            if ep not in accuracies:\n",
    "                accuracies[ep] = {}\n",
    "            for s in ss:\n",
    "                if s not in accuracies[ep]:\n",
    "                    accuracies[ep][s] = []\n",
    "                model = tf.keras.models.load_model(model_name)\n",
    "                model.compile(\n",
    "                    optimizer=tf.keras.optimizers.Adam(0.001),\n",
    "                    loss=tf.keras.losses.SparseCategoricalCrossentropy(from_logits=True),\n",
    "                    metrics=[tf.keras.metrics.SparseCategoricalAccuracy()],\n",
    "                )\n",
    "                new_weight = guassian_conv_neuron(model, 4, [0, 0, 0], s)\n",
    "                old_weights = model.get_weights()\n",
    "                old_weights[4] = new_weight\n",
    "                model.set_weights(old_weights)\n",
    "                preturbs = get_preturbation_images(model, x_test, y_test)\n",
    "                accuracy, _ = evaluate_epsilons(model, x_test, y_test, preturbs, epsilons=[ep])\n",
    "                accuracies[ep][s].append(accuracy[0])\n",
    "    return accuracies"
   ]
  },
  {
   "cell_type": "code",
   "execution_count": 7,
   "id": "entire-uruguay",
   "metadata": {},
   "outputs": [],
   "source": [
    "def deactivate_conv_neuron(model, layer, fill_layers):\n",
    "    lay = model.get_weights()[layer]\n",
    "    lay[fill_layers[0]][fill_layers[1]][fill_layers[2]] = lay[fill_layers[0]][fill_layers[1]][fill_layers[2]].fill(0)\n",
    "    return lay"
   ]
  },
  {
   "cell_type": "code",
   "execution_count": 43,
   "id": "comprehensive-audit",
   "metadata": {},
   "outputs": [
    {
     "name": "stdout",
     "output_type": "stream",
     "text": [
      "INFO:tensorflow:Assets written to: com_errors/assets\n"
     ]
    }
   ],
   "source": [
    "model.save('com_errors')"
   ]
  },
  {
   "cell_type": "code",
   "execution_count": 97,
   "id": "honest-curve",
   "metadata": {},
   "outputs": [],
   "source": [
    "model = models.load_model('com_errors')"
   ]
  },
  {
   "cell_type": "code",
   "execution_count": null,
   "id": "deluxe-shame",
   "metadata": {},
   "outputs": [],
   "source": [
    "model."
   ]
  },
  {
   "cell_type": "code",
   "execution_count": 90,
   "id": "applicable-wright",
   "metadata": {},
   "outputs": [
    {
     "ename": "IndexError",
     "evalue": "invalid index to scalar variable.",
     "output_type": "error",
     "traceback": [
      "\u001b[0;31m---------------------------------------------------------------------------\u001b[0m",
      "\u001b[0;31mIndexError\u001b[0m                                Traceback (most recent call last)",
      "\u001b[0;32m<ipython-input-90-989846e9c757>\u001b[0m in \u001b[0;36m<module>\u001b[0;34m\u001b[0m\n\u001b[0;32m----> 1\u001b[0;31m \u001b[0mnew_weight\u001b[0m \u001b[0;34m=\u001b[0m \u001b[0mdeactivate_conv_neuron\u001b[0m\u001b[0;34m(\u001b[0m\u001b[0mmodel\u001b[0m\u001b[0;34m,\u001b[0m \u001b[0;36m1\u001b[0m\u001b[0;34m,\u001b[0m \u001b[0;34m[\u001b[0m\u001b[0;36m0\u001b[0m\u001b[0;34m,\u001b[0m \u001b[0;36m1\u001b[0m\u001b[0;34m,\u001b[0m \u001b[0;36m0\u001b[0m\u001b[0;34m]\u001b[0m\u001b[0;34m)\u001b[0m\u001b[0;34m\u001b[0m\u001b[0;34m\u001b[0m\u001b[0m\n\u001b[0m\u001b[1;32m      2\u001b[0m \u001b[0mold_weights\u001b[0m \u001b[0;34m=\u001b[0m \u001b[0mmodel\u001b[0m\u001b[0;34m.\u001b[0m\u001b[0mget_weights\u001b[0m\u001b[0;34m(\u001b[0m\u001b[0;34m)\u001b[0m\u001b[0;34m\u001b[0m\u001b[0;34m\u001b[0m\u001b[0m\n\u001b[1;32m      3\u001b[0m \u001b[0;34m\u001b[0m\u001b[0m\n\u001b[1;32m      4\u001b[0m \u001b[0mold_weights\u001b[0m\u001b[0;34m[\u001b[0m\u001b[0;36m2\u001b[0m\u001b[0;34m]\u001b[0m \u001b[0;34m=\u001b[0m \u001b[0mnew_weight\u001b[0m\u001b[0;34m\u001b[0m\u001b[0;34m\u001b[0m\u001b[0m\n\u001b[1;32m      5\u001b[0m \u001b[0mmodel\u001b[0m\u001b[0;34m.\u001b[0m\u001b[0mset_weights\u001b[0m\u001b[0;34m(\u001b[0m\u001b[0mold_weights\u001b[0m\u001b[0;34m)\u001b[0m\u001b[0;34m\u001b[0m\u001b[0;34m\u001b[0m\u001b[0m\n",
      "\u001b[0;32m<ipython-input-7-4adfdaba7b91>\u001b[0m in \u001b[0;36mdeactivate_conv_neuron\u001b[0;34m(model, layer, fill_layers)\u001b[0m\n\u001b[1;32m      1\u001b[0m \u001b[0;32mdef\u001b[0m \u001b[0mdeactivate_conv_neuron\u001b[0m\u001b[0;34m(\u001b[0m\u001b[0mmodel\u001b[0m\u001b[0;34m,\u001b[0m \u001b[0mlayer\u001b[0m\u001b[0;34m,\u001b[0m \u001b[0mfill_layers\u001b[0m\u001b[0;34m)\u001b[0m\u001b[0;34m:\u001b[0m\u001b[0;34m\u001b[0m\u001b[0;34m\u001b[0m\u001b[0m\n\u001b[1;32m      2\u001b[0m     \u001b[0mlay\u001b[0m \u001b[0;34m=\u001b[0m \u001b[0mmodel\u001b[0m\u001b[0;34m.\u001b[0m\u001b[0mget_weights\u001b[0m\u001b[0;34m(\u001b[0m\u001b[0;34m)\u001b[0m\u001b[0;34m[\u001b[0m\u001b[0mlayer\u001b[0m\u001b[0;34m]\u001b[0m\u001b[0;34m\u001b[0m\u001b[0;34m\u001b[0m\u001b[0m\n\u001b[0;32m----> 3\u001b[0;31m     \u001b[0mlay\u001b[0m\u001b[0;34m[\u001b[0m\u001b[0mfill_layers\u001b[0m\u001b[0;34m[\u001b[0m\u001b[0;36m0\u001b[0m\u001b[0;34m]\u001b[0m\u001b[0;34m]\u001b[0m\u001b[0;34m[\u001b[0m\u001b[0mfill_layers\u001b[0m\u001b[0;34m[\u001b[0m\u001b[0;36m1\u001b[0m\u001b[0;34m]\u001b[0m\u001b[0;34m]\u001b[0m\u001b[0;34m[\u001b[0m\u001b[0mfill_layers\u001b[0m\u001b[0;34m[\u001b[0m\u001b[0;36m2\u001b[0m\u001b[0;34m]\u001b[0m\u001b[0;34m]\u001b[0m \u001b[0;34m=\u001b[0m \u001b[0mlay\u001b[0m\u001b[0;34m[\u001b[0m\u001b[0mfill_layers\u001b[0m\u001b[0;34m[\u001b[0m\u001b[0;36m0\u001b[0m\u001b[0;34m]\u001b[0m\u001b[0;34m]\u001b[0m\u001b[0;34m[\u001b[0m\u001b[0mfill_layers\u001b[0m\u001b[0;34m[\u001b[0m\u001b[0;36m1\u001b[0m\u001b[0;34m]\u001b[0m\u001b[0;34m]\u001b[0m\u001b[0;34m[\u001b[0m\u001b[0mfill_layers\u001b[0m\u001b[0;34m[\u001b[0m\u001b[0;36m2\u001b[0m\u001b[0;34m]\u001b[0m\u001b[0;34m]\u001b[0m\u001b[0;34m.\u001b[0m\u001b[0mfill\u001b[0m\u001b[0;34m(\u001b[0m\u001b[0;36m0\u001b[0m\u001b[0;34m)\u001b[0m\u001b[0;34m\u001b[0m\u001b[0;34m\u001b[0m\u001b[0m\n\u001b[0m\u001b[1;32m      4\u001b[0m     \u001b[0;32mreturn\u001b[0m \u001b[0mlay\u001b[0m\u001b[0;34m\u001b[0m\u001b[0;34m\u001b[0m\u001b[0m\n",
      "\u001b[0;31mIndexError\u001b[0m: invalid index to scalar variable."
     ]
    }
   ],
   "source": [
    "new_weight = deactivate_conv_neuron(model, 1, [0, 1, 0])\n",
    "old_weights = model.get_weights()\n",
    "\n",
    "old_weights[2] = new_weight\n",
    "model.set_weights(old_weights)"
   ]
  },
  {
   "cell_type": "code",
   "execution_count": 73,
   "id": "alternative-document",
   "metadata": {},
   "outputs": [
    {
     "name": "stdout",
     "output_type": "stream",
     "text": [
      "313/313 [==============================] - 1s 4ms/step - loss: nan - sparse_categorical_accuracy: 0.0924\n"
     ]
    },
    {
     "data": {
      "text/plain": [
       "0.09799999743700027"
      ]
     },
     "execution_count": 73,
     "metadata": {},
     "output_type": "execute_result"
    }
   ],
   "source": [
    "model.compile(\n",
    "    optimizer=tf.keras.optimizers.Adam(0.001),\n",
    "    loss=tf.keras.losses.SparseCategoricalCrossentropy(from_logits=True),\n",
    "    metrics=[tf.keras.metrics.SparseCategoricalAccuracy()],\n",
    ")\n",
    "loss, accuracy = model.evaluate(x_test, y_test, verbose=1)\n",
    "accuracy"
   ]
  },
  {
   "cell_type": "code",
   "execution_count": 52,
   "id": "alpine-assessment",
   "metadata": {},
   "outputs": [],
   "source": [
    "def guassian_conv_neuron(model, layer, fill_layers, s):\n",
    "    lay = model.get_weights()[layer]\n",
    "    test = np.copy(lay)\n",
    "    layer = lay[fill_layers[0]][fill_layers[1]][fill_layers[2]]\n",
    "    noise = np.random.normal(0, s, layer.shape)\n",
    "    layer += noise\n",
    "    return lay"
   ]
  },
  {
   "cell_type": "code",
   "execution_count": 125,
   "id": "arranged-nashville",
   "metadata": {},
   "outputs": [],
   "source": [
    "model = models.load_model('com_errors')\n",
    "new_weight = guassian_conv_neuron(model, 4, [0, 0, 0], 9)\n",
    "old_weights = model.get_weights()\n",
    "\n",
    "old_weights[4] = new_weight\n",
    "model.set_weights(old_weights)"
   ]
  },
  {
   "cell_type": "code",
   "execution_count": 126,
   "id": "colonial-luxury",
   "metadata": {},
   "outputs": [
    {
     "name": "stdout",
     "output_type": "stream",
     "text": [
      "313/313 [==============================] - 1s 4ms/step - loss: 0.0939 - sparse_categorical_accuracy: 0.9816\n"
     ]
    },
    {
     "data": {
      "text/plain": [
       "0.9868999719619751"
      ]
     },
     "execution_count": 126,
     "metadata": {},
     "output_type": "execute_result"
    }
   ],
   "source": [
    "model.compile(\n",
    "    optimizer=tf.keras.optimizers.Adam(0.001),\n",
    "    loss=tf.keras.losses.SparseCategoricalCrossentropy(from_logits=True),\n",
    "    metrics=[tf.keras.metrics.SparseCategoricalAccuracy()],\n",
    ")\n",
    "loss, accuracy = model.evaluate(x_test, y_test, verbose=1)\n",
    "accuracy"
   ]
  },
  {
   "cell_type": "code",
   "execution_count": 93,
   "id": "infectious-renewal",
   "metadata": {},
   "outputs": [
    {
     "name": "stdout",
     "output_type": "stream",
     "text": [
      "Model: \"sequential\"\n",
      "_________________________________________________________________\n",
      "Layer (type)                 Output Shape              Param #   \n",
      "=================================================================\n",
      "conv2d (Conv2D)              (None, 26, 26, 64)        640       \n",
      "_________________________________________________________________\n",
      "max_pooling2d (MaxPooling2D) (None, 13, 13, 64)        0         \n",
      "_________________________________________________________________\n",
      "conv2d_1 (Conv2D)            (None, 11, 11, 64)        36928     \n",
      "_________________________________________________________________\n",
      "max_pooling2d_1 (MaxPooling2 (None, 5, 5, 64)          0         \n",
      "_________________________________________________________________\n",
      "conv2d_2 (Conv2D)            (None, 3, 3, 64)          36928     \n",
      "_________________________________________________________________\n",
      "flatten (Flatten)            (None, 576)               0         \n",
      "_________________________________________________________________\n",
      "dense (Dense)                (None, 64)                36928     \n",
      "_________________________________________________________________\n",
      "dense_1 (Dense)              (None, 10)                650       \n",
      "=================================================================\n",
      "Total params: 112,074\n",
      "Trainable params: 112,074\n",
      "Non-trainable params: 0\n",
      "_________________________________________________________________\n"
     ]
    }
   ],
   "source": [
    "model.summary()"
   ]
  },
  {
   "cell_type": "code",
   "execution_count": 131,
   "id": "regular-crossing",
   "metadata": {},
   "outputs": [
    {
     "name": "stdout",
     "output_type": "stream",
     "text": [
      "313/313 [==============================] - 1s 4ms/step - loss: 0.0435 - sparse_categorical_accuracy: 0.9907\n",
      "313/313 [==============================] - 1s 4ms/step - loss: 0.0435 - sparse_categorical_accuracy: 0.9907\n",
      "313/313 [==============================] - 1s 4ms/step - loss: 0.0436 - sparse_categorical_accuracy: 0.9907\n",
      "313/313 [==============================] - 1s 4ms/step - loss: 0.0436 - sparse_categorical_accuracy: 0.9907\n",
      "313/313 [==============================] - 1s 4ms/step - loss: 0.0427 - sparse_categorical_accuracy: 0.9914\n",
      "313/313 [==============================] - 1s 4ms/step - loss: 0.0432 - sparse_categorical_accuracy: 0.9911\n",
      "313/313 [==============================] - 2s 5ms/step - loss: 0.1063 - sparse_categorical_accuracy: 0.9810\n",
      "313/313 [==============================] - 2s 5ms/step - loss: 3.1898 - sparse_categorical_accuracy: 0.8009\n",
      "313/313 [==============================] - 2s 4ms/step - loss: 3.5777 - sparse_categorical_accuracy: 0.8184\n",
      "313/313 [==============================] - 1s 4ms/step - loss: 9.4844 - sparse_categorical_accuracy: 0.7463\n"
     ]
    }
   ],
   "source": [
    "ss = [0, 0.01, 0.1, 0.2, 1, 2, 10, 20, 30, 40]\n",
    "accuracies = []\n",
    "\n",
    "for i in ss:\n",
    "    model = models.load_model('com_errors')\n",
    "    new_weight = guassian_conv_neuron(model, 4, [0, 0, 0], i)\n",
    "    old_weights = model.get_weights()\n",
    "\n",
    "    old_weights[4] = new_weight\n",
    "    model.set_weights(old_weights)\n",
    "    model.compile(\n",
    "        optimizer=tf.keras.optimizers.Adam(0.001),\n",
    "        loss=tf.keras.losses.SparseCategoricalCrossentropy(from_logits=True),\n",
    "        metrics=[tf.keras.metrics.SparseCategoricalAccuracy()],\n",
    "    )\n",
    "    loss, accuracy = model.evaluate(x_test, y_test, verbose=1)\n",
    "    accuracies.append(accuracy)"
   ]
  },
  {
   "cell_type": "code",
   "execution_count": 132,
   "id": "occupied-taylor",
   "metadata": {},
   "outputs": [
    {
     "data": {
      "text/plain": [
       "[<matplotlib.lines.Line2D at 0x7fd58422a2e0>]"
      ]
     },
     "execution_count": 132,
     "metadata": {},
     "output_type": "execute_result"
    },
    {
     "data": {
      "image/png": "[encoded data removed]",
      "text/plain": [
       "<Figure size 432x288 with 1 Axes>"
      ]
     },
     "metadata": {
      "needs_background": "light"
     },
     "output_type": "display_data"
    }
   ],
   "source": [
    "plt.plot(ss, accuracies)"
   ]
  },
  {
   "cell_type": "code",
   "execution_count": 147,
   "id": "cosmetic-industry",
   "metadata": {},
   "outputs": [
    {
     "name": "stdout",
     "output_type": "stream",
     "text": [
      "Starting trial 0 0\n"
     ]
    },
    {
     "data": {
      "text/latex": [
       "$\\displaystyle \\epsilon = 0.00$"
      ],
      "text/plain": [
       "<IPython.core.display.Math object>"
      ]
     },
     "metadata": {},
     "output_type": "display_data"
    },
    {
     "name": "stdout",
     "output_type": "stream",
     "text": [
      "313/313 [==============================] - 2s 5ms/step - loss: 0.0435 - sparse_categorical_accuracy: 0.9907\n"
     ]
    },
    {
     "data": {
      "text/latex": [
       "$\\displaystyle \\epsilon = 0.00$"
      ],
      "text/plain": [
       "<IPython.core.display.Math object>"
      ]
     },
     "metadata": {},
     "output_type": "display_data"
    },
    {
     "name": "stdout",
     "output_type": "stream",
     "text": [
      "313/313 [==============================] - 1s 4ms/step - loss: 0.0436 - sparse_categorical_accuracy: 0.9907\n"
     ]
    },
    {
     "data": {
      "text/latex": [
       "$\\displaystyle \\epsilon = 0.00$"
      ],
      "text/plain": [
       "<IPython.core.display.Math object>"
      ]
     },
     "metadata": {},
     "output_type": "display_data"
    },
    {
     "name": "stdout",
     "output_type": "stream",
     "text": [
      "313/313 [==============================] - 1s 4ms/step - loss: 0.0435 - sparse_categorical_accuracy: 0.9911\n"
     ]
    },
    {
     "data": {
      "text/latex": [
       "$\\displaystyle \\epsilon = 0.00$"
      ],
      "text/plain": [
       "<IPython.core.display.Math object>"
      ]
     },
     "metadata": {},
     "output_type": "display_data"
    },
    {
     "name": "stdout",
     "output_type": "stream",
     "text": [
      "313/313 [==============================] - 1s 4ms/step - loss: 0.0448 - sparse_categorical_accuracy: 0.9897\n"
     ]
    },
    {
     "data": {
      "text/latex": [
       "$\\displaystyle \\epsilon = 0.00$"
      ],
      "text/plain": [
       "<IPython.core.display.Math object>"
      ]
     },
     "metadata": {},
     "output_type": "display_data"
    },
    {
     "name": "stdout",
     "output_type": "stream",
     "text": [
      "313/313 [==============================] - 1s 4ms/step - loss: 0.0784 - sparse_categorical_accuracy: 0.9860\n"
     ]
    },
    {
     "data": {
      "text/latex": [
       "$\\displaystyle \\epsilon = 0.01$"
      ],
      "text/plain": [
       "<IPython.core.display.Math object>"
      ]
     },
     "metadata": {},
     "output_type": "display_data"
    },
    {
     "name": "stdout",
     "output_type": "stream",
     "text": [
      "313/313 [==============================] - 1s 4ms/step - loss: 0.0814 - sparse_categorical_accuracy: 0.9811\n"
     ]
    },
    {
     "data": {
      "text/latex": [
       "$\\displaystyle \\epsilon = 0.01$"
      ],
      "text/plain": [
       "<IPython.core.display.Math object>"
      ]
     },
     "metadata": {},
     "output_type": "display_data"
    },
    {
     "name": "stdout",
     "output_type": "stream",
     "text": [
      "313/313 [==============================] - 1s 4ms/step - loss: 0.0814 - sparse_categorical_accuracy: 0.9811\n"
     ]
    },
    {
     "data": {
      "text/latex": [
       "$\\displaystyle \\epsilon = 0.01$"
      ],
      "text/plain": [
       "<IPython.core.display.Math object>"
      ]
     },
     "metadata": {},
     "output_type": "display_data"
    },
    {
     "name": "stdout",
     "output_type": "stream",
     "text": [
      "313/313 [==============================] - 1s 4ms/step - loss: 0.0816 - sparse_categorical_accuracy: 0.9811\n"
     ]
    },
    {
     "data": {
      "text/latex": [
       "$\\displaystyle \\epsilon = 0.01$"
      ],
      "text/plain": [
       "<IPython.core.display.Math object>"
      ]
     },
     "metadata": {},
     "output_type": "display_data"
    },
    {
     "name": "stdout",
     "output_type": "stream",
     "text": [
      "313/313 [==============================] - 1s 4ms/step - loss: 0.0826 - sparse_categorical_accuracy: 0.9813\n"
     ]
    },
    {
     "data": {
      "text/latex": [
       "$\\displaystyle \\epsilon = 0.01$"
      ],
      "text/plain": [
       "<IPython.core.display.Math object>"
      ]
     },
     "metadata": {},
     "output_type": "display_data"
    },
    {
     "name": "stdout",
     "output_type": "stream",
     "text": [
      "313/313 [==============================] - 1s 4ms/step - loss: 0.5742 - sparse_categorical_accuracy: 0.9297\n"
     ]
    },
    {
     "data": {
      "text/latex": [
       "$\\displaystyle \\epsilon = 0.02$"
      ],
      "text/plain": [
       "<IPython.core.display.Math object>"
      ]
     },
     "metadata": {},
     "output_type": "display_data"
    },
    {
     "name": "stdout",
     "output_type": "stream",
     "text": [
      "313/313 [==============================] - 1s 4ms/step - loss: 0.1379 - sparse_categorical_accuracy: 0.9707\n"
     ]
    },
    {
     "data": {
      "text/latex": [
       "$\\displaystyle \\epsilon = 0.02$"
      ],
      "text/plain": [
       "<IPython.core.display.Math object>"
      ]
     },
     "metadata": {},
     "output_type": "display_data"
    },
    {
     "name": "stdout",
     "output_type": "stream",
     "text": [
      "313/313 [==============================] - 1s 4ms/step - loss: 0.1379 - sparse_categorical_accuracy: 0.9707\n"
     ]
    },
    {
     "data": {
      "text/latex": [
       "$\\displaystyle \\epsilon = 0.02$"
      ],
      "text/plain": [
       "<IPython.core.display.Math object>"
      ]
     },
     "metadata": {},
     "output_type": "display_data"
    },
    {
     "name": "stdout",
     "output_type": "stream",
     "text": [
      "313/313 [==============================] - 2s 5ms/step - loss: 0.1380 - sparse_categorical_accuracy: 0.9705\n"
     ]
    },
    {
     "data": {
      "text/latex": [
       "$\\displaystyle \\epsilon = 0.02$"
      ],
      "text/plain": [
       "<IPython.core.display.Math object>"
      ]
     },
     "metadata": {},
     "output_type": "display_data"
    },
    {
     "name": "stdout",
     "output_type": "stream",
     "text": [
      "313/313 [==============================] - 1s 4ms/step - loss: 0.1412 - sparse_categorical_accuracy: 0.9700\n"
     ]
    },
    {
     "data": {
      "text/latex": [
       "$\\displaystyle \\epsilon = 0.02$"
      ],
      "text/plain": [
       "<IPython.core.display.Math object>"
      ]
     },
     "metadata": {},
     "output_type": "display_data"
    },
    {
     "name": "stdout",
     "output_type": "stream",
     "text": [
      "313/313 [==============================] - 1s 4ms/step - loss: 0.2172 - sparse_categorical_accuracy: 0.9575\n"
     ]
    },
    {
     "data": {
      "text/latex": [
       "$\\displaystyle \\epsilon = 0.04$"
      ],
      "text/plain": [
       "<IPython.core.display.Math object>"
      ]
     },
     "metadata": {},
     "output_type": "display_data"
    },
    {
     "name": "stdout",
     "output_type": "stream",
     "text": [
      "313/313 [==============================] - 1s 4ms/step - loss: 0.3218 - sparse_categorical_accuracy: 0.9367\n"
     ]
    },
    {
     "data": {
      "text/latex": [
       "$\\displaystyle \\epsilon = 0.04$"
      ],
      "text/plain": [
       "<IPython.core.display.Math object>"
      ]
     },
     "metadata": {},
     "output_type": "display_data"
    },
    {
     "name": "stdout",
     "output_type": "stream",
     "text": [
      "313/313 [==============================] - 2s 5ms/step - loss: 0.3219 - sparse_categorical_accuracy: 0.9365\n"
     ]
    },
    {
     "data": {
      "text/latex": [
       "$\\displaystyle \\epsilon = 0.04$"
      ],
      "text/plain": [
       "<IPython.core.display.Math object>"
      ]
     },
     "metadata": {},
     "output_type": "display_data"
    },
    {
     "name": "stdout",
     "output_type": "stream",
     "text": [
      "313/313 [==============================] - 2s 5ms/step - loss: 0.3221 - sparse_categorical_accuracy: 0.9367\n"
     ]
    },
    {
     "data": {
      "text/latex": [
       "$\\displaystyle \\epsilon = 0.04$"
      ],
      "text/plain": [
       "<IPython.core.display.Math object>"
      ]
     },
     "metadata": {},
     "output_type": "display_data"
    },
    {
     "name": "stdout",
     "output_type": "stream",
     "text": [
      "313/313 [==============================] - 2s 5ms/step - loss: 0.3239 - sparse_categorical_accuracy: 0.9372\n"
     ]
    },
    {
     "data": {
      "text/latex": [
       "$\\displaystyle \\epsilon = 0.04$"
      ],
      "text/plain": [
       "<IPython.core.display.Math object>"
      ]
     },
     "metadata": {},
     "output_type": "display_data"
    },
    {
     "name": "stdout",
     "output_type": "stream",
     "text": [
      "313/313 [==============================] - 2s 5ms/step - loss: 1.4734 - sparse_categorical_accuracy: 0.8057\n"
     ]
    },
    {
     "data": {
      "text/latex": [
       "$\\displaystyle \\epsilon = 0.05$"
      ],
      "text/plain": [
       "<IPython.core.display.Math object>"
      ]
     },
     "metadata": {},
     "output_type": "display_data"
    },
    {
     "name": "stdout",
     "output_type": "stream",
     "text": [
      "313/313 [==============================] - 2s 5ms/step - loss: 0.4545 - sparse_categorical_accuracy: 0.9171\n"
     ]
    },
    {
     "data": {
      "text/latex": [
       "$\\displaystyle \\epsilon = 0.05$"
      ],
      "text/plain": [
       "<IPython.core.display.Math object>"
      ]
     },
     "metadata": {},
     "output_type": "display_data"
    },
    {
     "name": "stdout",
     "output_type": "stream",
     "text": [
      "313/313 [==============================] - 2s 4ms/step - loss: 0.4546 - sparse_categorical_accuracy: 0.9171\n"
     ]
    },
    {
     "data": {
      "text/latex": [
       "$\\displaystyle \\epsilon = 0.05$"
      ],
      "text/plain": [
       "<IPython.core.display.Math object>"
      ]
     },
     "metadata": {},
     "output_type": "display_data"
    },
    {
     "name": "stdout",
     "output_type": "stream",
     "text": [
      "313/313 [==============================] - 2s 5ms/step - loss: 0.4548 - sparse_categorical_accuracy: 0.9170\n"
     ]
    },
    {
     "data": {
      "text/latex": [
       "$\\displaystyle \\epsilon = 0.05$"
      ],
      "text/plain": [
       "<IPython.core.display.Math object>"
      ]
     },
     "metadata": {},
     "output_type": "display_data"
    },
    {
     "name": "stdout",
     "output_type": "stream",
     "text": [
      "313/313 [==============================] - 2s 5ms/step - loss: 0.4578 - sparse_categorical_accuracy: 0.9178\n"
     ]
    },
    {
     "data": {
      "text/latex": [
       "$\\displaystyle \\epsilon = 0.05$"
      ],
      "text/plain": [
       "<IPython.core.display.Math object>"
      ]
     },
     "metadata": {},
     "output_type": "display_data"
    },
    {
     "name": "stdout",
     "output_type": "stream",
     "text": [
      "313/313 [==============================] - 2s 5ms/step - loss: 2.5842 - sparse_categorical_accuracy: 0.7563\n"
     ]
    },
    {
     "data": {
      "text/latex": [
       "$\\displaystyle \\epsilon = 0.10$"
      ],
      "text/plain": [
       "<IPython.core.display.Math object>"
      ]
     },
     "metadata": {},
     "output_type": "display_data"
    },
    {
     "name": "stdout",
     "output_type": "stream",
     "text": [
      "313/313 [==============================] - 2s 5ms/step - loss: 1.4193 - sparse_categorical_accuracy: 0.7747\n"
     ]
    },
    {
     "data": {
      "text/latex": [
       "$\\displaystyle \\epsilon = 0.10$"
      ],
      "text/plain": [
       "<IPython.core.display.Math object>"
      ]
     },
     "metadata": {},
     "output_type": "display_data"
    },
    {
     "name": "stdout",
     "output_type": "stream",
     "text": [
      "313/313 [==============================] - 2s 5ms/step - loss: 1.4199 - sparse_categorical_accuracy: 0.7743\n"
     ]
    },
    {
     "data": {
      "text/latex": [
       "$\\displaystyle \\epsilon = 0.10$"
      ],
      "text/plain": [
       "<IPython.core.display.Math object>"
      ]
     },
     "metadata": {},
     "output_type": "display_data"
    },
    {
     "name": "stdout",
     "output_type": "stream",
     "text": [
      "313/313 [==============================] - 2s 5ms/step - loss: 1.4205 - sparse_categorical_accuracy: 0.7750\n"
     ]
    },
    {
     "data": {
      "text/latex": [
       "$\\displaystyle \\epsilon = 0.10$"
      ],
      "text/plain": [
       "<IPython.core.display.Math object>"
      ]
     },
     "metadata": {},
     "output_type": "display_data"
    },
    {
     "name": "stdout",
     "output_type": "stream",
     "text": [
      "313/313 [==============================] - 2s 5ms/step - loss: 1.4153 - sparse_categorical_accuracy: 0.7758\n"
     ]
    },
    {
     "data": {
      "text/latex": [
       "$\\displaystyle \\epsilon = 0.10$"
      ],
      "text/plain": [
       "<IPython.core.display.Math object>"
      ]
     },
     "metadata": {},
     "output_type": "display_data"
    },
    {
     "name": "stdout",
     "output_type": "stream",
     "text": [
      "313/313 [==============================] - 2s 5ms/step - loss: 5.2934 - sparse_categorical_accuracy: 0.6325\n"
     ]
    }
   ],
   "source": [
    "accuracies = run_neuron_tests('com_errors')"
   ]
  },
  {
   "cell_type": "code",
   "execution_count": 148,
   "id": "measured-department",
   "metadata": {},
   "outputs": [],
   "source": [
    "def plot_accuracies(accuracies, title, multiple_trials=False):\n",
    "    plt.figure(figsize=(15,12))\n",
    "    plt.rcParams.update({'font.size': 22})\n",
    "    color = ['r', 'b', 'g', 'k', 'm', 'y', 'c', '#e5495e', '#342b45']\n",
    "\n",
    "    for i, eps in enumerate(accuracies.keys()):\n",
    "        x = []\n",
    "        y = []\n",
    "        fillup = []\n",
    "        filldown = []\n",
    "        for k, v in accuracies[eps].items():\n",
    "            mean = np.mean(v)\n",
    "            x.append(float(k))\n",
    "            y.append(mean)\n",
    "            \n",
    "            if multiple_trials:\n",
    "                ci = 2.145 * np.std(y)/math.sqrt(15)\n",
    "                fillup.append(mean + ci)\n",
    "                filldown.append(mean - ci)\n",
    "\n",
    "        plt.plot(x, y, color=color[i], label=\"$\\epsilon=%s$\" % eps)\n",
    "        if multiple_trials:\n",
    "            plt.fill_between(x, fillup, filldown, color=color[i], alpha=.1)\n",
    "    plt.xlabel('Standard Deviation')\n",
    "    plt.ylabel('Accuracy')\n",
    "    plt.title(title)\n",
    "    plt.legend(loc='lower left')\n",
    "    plt.show()"
   ]
  },
  {
   "cell_type": "code",
   "execution_count": 149,
   "id": "compliant-investigation",
   "metadata": {},
   "outputs": [
    {
     "data": {
      "image/png": "[encoded data removed]",
      "text/plain": [
       "<Figure size 1080x864 with 1 Axes>"
      ]
     },
     "metadata": {
      "needs_background": "light"
     },
     "output_type": "display_data"
    }
   ],
   "source": [
    "plot_accuracies(accuracies, 'beep')"
   ]
  },
  {
   "cell_type": "code",
   "execution_count": null,
   "id": "formal-switch",
   "metadata": {},
   "outputs": [],
   "source": []
  }
 ],
 "metadata": {
  "kernelspec": {
   "display_name": "advml2",
   "language": "python",
   "name": "advml2"
  },
  "language_info": {
   "codemirror_mode": {
    "name": "ipython",
    "version": 3
   },
   "file_extension": ".py",
   "mimetype": "text/x-python",
   "name": "python",
   "nbconvert_exporter": "python",
   "pygments_lexer": "ipython3",
   "version": "3.8.8"
  }
 },
 "nbformat": 4,
 "nbformat_minor": 5
}
